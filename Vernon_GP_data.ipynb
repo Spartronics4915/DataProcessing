{
 "cells": [
  {
   "cell_type": "code",
   "execution_count": 175,
   "metadata": {},
   "outputs": [],
   "source": [
    "import matplotlib \n",
    "import numpy as np\n",
    "import matplotlib.pyplot as plt\n",
    "# Sorting packages\n",
    "from collections import Counter\n",
    "from operator import itemgetter\n",
    "# Imports for data processing\n",
    "np.set_printoptions(threshold=np.nan)\n",
    "\n"
   ]
  },
  {
   "cell_type": "code",
   "execution_count": 176,
   "metadata": {},
   "outputs": [],
   "source": [
    "def read_datafile(file_name):\n",
    "    # the skiprows keyword is for heading, but I don't know if trailing lines\n",
    "    # can be specifie\n",
    "    data = np.genfromtxt(fname=file_name,\n",
    "                         usecols=np.arange(1,36), #Temp to protect from some cols having 37 values. \n",
    "                                                  #We also don't need 1st col (Or 6th)\n",
    "                         delimiter=\",\",\n",
    "                         skip_header=1,\n",
    "                         missing_values={0:'',1:'TRUE',0:'FALSE'}, # set all values of empty to be 0,\n",
    "                                                                   # values of true to be 1, and value of false to be 0\n",
    "                         )\n",
    "    \n",
    "    np.nan_to_num(data,False) # Nan is 0, despite the defination of Nan\n",
    "    \n",
    "    return data\n",
    "\n",
    "VernonGP = read_datafile('Mt_Vernon_Scouting.csv')\n",
    "#Don't know how to handle if that data is not *exactly* where it needs to be\n",
    "#In the form of a ndarray array\n"
   ]
  },
  {
   "cell_type": "markdown",
   "metadata": {},
   "source": [
    "Few important notes:\n",
    "    - To retreve any given data entry\n",
    "        - In the form of [entry][datapoint]\n",
    "        - Where entry is the horizontal row, datapoint is the distance down that given 'entry'\n",
    "    - Strings still throw errors, strings turn into NaN, which is ATM fine, because each team number is just an int\n",
    "    - The current data range is (445, 35)\n",
    "    - [data].shape = tuple of dimensions ^^\n",
    "    - Temp Data assignments untill a more standard system is put into place\n",
    "        - 18 = # cubes into exchange\n",
    "        - 16 = # cubes in opponent switch\n",
    "        - 15 = # cubes on our switch\n",
    "        - 19 = # cubes in scale\n"
   ]
  },
  {
   "cell_type": "code",
   "execution_count": 177,
   "metadata": {},
   "outputs": [],
   "source": [
    "# WIP\n",
    "teamData = {}\n",
    "\n",
    "# TODO: Prevent overflow (This can overflow, right now I am cheating by emptying the list before the method)\n",
    "def sum_team_data(data):\n",
    "    cells2read = [18,16,15,19] #TODO: Make this an argument to the method\n",
    "    \n",
    "    # Perform this task for every entry\n",
    "    #for numentry in range(0,data.shape[0]):\n",
    "    for entry in data:\n",
    "        team = str(entry[1])\n",
    "        if team in teamData:\n",
    "            for cell in cells2read:\n",
    "                if cell == 19:\n",
    "                    teamData[team]['cubescale'] += entry[cell]\n",
    "                elif cell == 18:\n",
    "                    teamData[team]['cubeexc'] += entry[cell]\n",
    "                elif cell == 16:\n",
    "                    teamData[team]['cubeoppswitch'] += entry[cell]\n",
    "                elif cell == 15:\n",
    "                    teamData[team]['cubeallyswitch'] += entry[cell]\n",
    "        else:\n",
    "            teamData[team] = {'cubescale':0, 'cubeexc':0, 'cubeoppswitch':0, 'cubeallyswitch':0}\n",
    "            # Create a standard entry in the 2D dictonary\n",
    "                \n",
    "                \n",
    "            \n",
    "       \n",
    "                \n",
    "sum_team_data(VernonGP)\n",
    "#for key in teamData:\n",
    "#    print(key)"
   ]
  },
  {
   "cell_type": "markdown",
   "metadata": {},
   "source": [
    "    Current plan to convert data into a table:\n",
    "        - cells2read = [18,16,15,19]\n",
    "        - For entry in data:\n",
    "            if str(team#) in dict:\n",
    "                for cell in cells2read:\n",
    "                    if cell == 18:\n",
    "                        dict['strteam#']['cubeexc'] += entry[cell]\n",
    "                    elif cell == 16:\n",
    "                        dict['strteam#']['cubeoppswitch'] += entry[cell]\n",
    "                    elif cell == 15:\n",
    "                        dict['strteam#']['cubeallyswitch'] += entry[cell]\n",
    "                    elif cell == 19:\n",
    "                        dict['strteam#']['cubescale'] += entry[cell]\n",
    "                    \n",
    "            "
   ]
  },
  {
   "cell_type": "code",
   "execution_count": 181,
   "metadata": {},
   "outputs": [],
   "source": [
    "# Creates a bar graph from a dictionary data\n",
    "# sorted(foo, key=foo.get)\n",
    "WIDTH = 0.35\n",
    "\n",
    "def bar_data(dict_data, data):\n",
    "    # Programmed to sort by largest 1sts\n",
    "    x = []\n",
    "    height = []\n",
    "    tick_label = []\n",
    "    \n",
    "    team2data = {}\n",
    "    \n",
    "    for key in dict_data:\n",
    "        tick_label.append(key)\n",
    "        \n",
    "        height.append(dict_data[key][data])\n",
    "       \n",
    "        # MAGIC --> print(dict_data[key])\n",
    "    \n",
    "    ind = np.arange(len(tick_label))\n",
    "    \n",
    "    return plt.bar(ind, height, WIDTH)"
   ]
  },
  {
   "cell_type": "code",
   "execution_count": 182,
   "metadata": {},
   "outputs": [],
   "source": [
    "#TODO: Make more universal\n",
    "#Creates a list of all team #'s\n",
    "def list_teams(dict_data):\n",
    "    keys = []\n",
    "    for key in dict_data:\n",
    "        key = key[:-2] # Clip the .0 from all the team numbers for A S T H E T I C\n",
    "        keys.append(key)\n",
    "    \n",
    "    print(keys)\n",
    "    return keys\n"
   ]
  },
  {
   "cell_type": "code",
   "execution_count": 183,
   "metadata": {
    "scrolled": true
   },
   "outputs": [
    {
     "name": "stdout",
     "output_type": "stream",
     "text": [
      "{'cubescale': 3.0, 'cubeexc': 4.0, 'cubeoppswitch': 20.0, 'cubeallyswitch': 9.0}\n",
      "{'cubescale': 32.0, 'cubeexc': 3.0, 'cubeoppswitch': 8.0, 'cubeallyswitch': 4.0}\n",
      "{'cubescale': 0.0, 'cubeexc': 14.0, 'cubeoppswitch': 0.0, 'cubeallyswitch': 3.0}\n",
      "{'cubescale': 26.0, 'cubeexc': 6.0, 'cubeoppswitch': 6.0, 'cubeallyswitch': 10.0}\n",
      "{'cubescale': 0.0, 'cubeexc': 14.0, 'cubeoppswitch': 0.0, 'cubeallyswitch': 4.0}\n",
      "{'cubescale': 0.0, 'cubeexc': 0.0, 'cubeoppswitch': 0.0, 'cubeallyswitch': 0.0}\n",
      "{'cubescale': 28.0, 'cubeexc': 3.0, 'cubeoppswitch': 3.0, 'cubeallyswitch': 4.0}\n",
      "{'cubescale': 0.0, 'cubeexc': 20.0, 'cubeoppswitch': 0.0, 'cubeallyswitch': 6.0}\n",
      "{'cubescale': 0, 'cubeexc': 0, 'cubeoppswitch': 0, 'cubeallyswitch': 0}\n",
      "{'cubescale': 0.0, 'cubeexc': 5.0, 'cubeoppswitch': 1.0, 'cubeallyswitch': 17.0}\n",
      "{'cubescale': 1.0, 'cubeexc': 9.0, 'cubeoppswitch': 0.0, 'cubeallyswitch': 4.0}\n",
      "{'cubescale': 36.0, 'cubeexc': 7.0, 'cubeoppswitch': 14.0, 'cubeallyswitch': 3.0}\n",
      "{'cubescale': 12.0, 'cubeexc': 30.0, 'cubeoppswitch': 0.0, 'cubeallyswitch': 5.0}\n",
      "{'cubescale': 0.0, 'cubeexc': 31.0, 'cubeoppswitch': 6.0, 'cubeallyswitch': 7.0}\n",
      "{'cubescale': 9.0, 'cubeexc': 15.0, 'cubeoppswitch': 0.0, 'cubeallyswitch': 2.0}\n",
      "{'cubescale': 0.0, 'cubeexc': 2.0, 'cubeoppswitch': 0.0, 'cubeallyswitch': 0.0}\n",
      "{'cubescale': 0.0, 'cubeexc': 9.0, 'cubeoppswitch': 2.0, 'cubeallyswitch': 6.0}\n",
      "{'cubescale': 10.0, 'cubeexc': 17.0, 'cubeoppswitch': 2.0, 'cubeallyswitch': 0.0}\n",
      "{'cubescale': 1.0, 'cubeexc': 5.0, 'cubeoppswitch': 0.0, 'cubeallyswitch': 2.0}\n",
      "{'cubescale': 34.0, 'cubeexc': 5.0, 'cubeoppswitch': 0.0, 'cubeallyswitch': 1.0}\n",
      "{'cubescale': 2.0, 'cubeexc': 23.0, 'cubeoppswitch': 0.0, 'cubeallyswitch': 8.0}\n",
      "{'cubescale': 10.0, 'cubeexc': 3.0, 'cubeoppswitch': 1.0, 'cubeallyswitch': 7.0}\n",
      "{'cubescale': 12.0, 'cubeexc': 14.0, 'cubeoppswitch': 0.0, 'cubeallyswitch': 2.0}\n",
      "{'cubescale': 7.0, 'cubeexc': 4.0, 'cubeoppswitch': 3.0, 'cubeallyswitch': 9.0}\n",
      "{'cubescale': 11.0, 'cubeexc': 32.0, 'cubeoppswitch': 10.0, 'cubeallyswitch': 3.0}\n",
      "{'cubescale': 3.0, 'cubeexc': 0.0, 'cubeoppswitch': 3.0, 'cubeallyswitch': 8.0}\n",
      "{'cubescale': 3.0, 'cubeexc': 24.0, 'cubeoppswitch': 1.0, 'cubeallyswitch': 6.0}\n",
      "{'cubescale': 0.0, 'cubeexc': 24.0, 'cubeoppswitch': 4.0, 'cubeallyswitch': 4.0}\n",
      "{'cubescale': 14.0, 'cubeexc': 9.0, 'cubeoppswitch': 0.0, 'cubeallyswitch': 8.0}\n",
      "{'cubescale': 0.0, 'cubeexc': 78.0, 'cubeoppswitch': 0.0, 'cubeallyswitch': 7.0}\n",
      "{'cubescale': 24.0, 'cubeexc': 8.0, 'cubeoppswitch': 0.0, 'cubeallyswitch': 8.0}\n",
      "{'cubescale': 13.0, 'cubeexc': 0.0, 'cubeoppswitch': 0.0, 'cubeallyswitch': 5.0}\n",
      "{'cubescale': 0.0, 'cubeexc': 6.0, 'cubeoppswitch': 3.0, 'cubeallyswitch': 10.0}\n",
      "{'cubescale': 0.0, 'cubeexc': 18.0, 'cubeoppswitch': 3.0, 'cubeallyswitch': 5.0}\n",
      "{'cubescale': 5.0, 'cubeexc': 0.0, 'cubeoppswitch': 0.0, 'cubeallyswitch': 5.0}\n",
      "{'cubescale': 36.0, 'cubeexc': 17.0, 'cubeoppswitch': 1.0, 'cubeallyswitch': 6.0}\n",
      "{'cubescale': 18.0, 'cubeexc': 9.0, 'cubeoppswitch': 0.0, 'cubeallyswitch': 6.0}\n",
      "{'cubescale': 0, 'cubeexc': 0, 'cubeoppswitch': 0, 'cubeallyswitch': 0}\n",
      "{'cubescale': 12.0, 'cubeexc': 2.0, 'cubeoppswitch': 0.0, 'cubeallyswitch': 3.0}\n",
      "{'cubescale': 4.0, 'cubeexc': 11.0, 'cubeoppswitch': 0.0, 'cubeallyswitch': 5.0}\n",
      "{'cubescale': 0.0, 'cubeexc': 14.0, 'cubeoppswitch': 0.0, 'cubeallyswitch': 5.0}\n",
      "{'cubescale': 0, 'cubeexc': 0, 'cubeoppswitch': 0, 'cubeallyswitch': 0}\n",
      "['360', '488', '1294', '1318', '1595', '1899', '2147', '2605', '2610', '2903', '2907', '2910', '2930', '2976', '2980', '3049', '3070', '3238', '3268', '3663', '3786', '3812', '3826', '4060', '4077', '4089', '4173', '4180', '4205', '4450', '4469', '4512', '4681', '4682', '4683', '4911', '4915', '5287', '5588', '5827', '7118', '5872']\n"
     ]
    },
    {
     "data": {
      "image/png": "[encoded data removed]",
      "text/plain": [
       "<matplotlib.figure.Figure at 0x7fe879202978>"
      ]
     },
     "metadata": {},
     "output_type": "display_data"
    }
   ],
   "source": [
    "# Set figure sie\n",
    "fig = matplotlib.pyplot.gcf()\n",
    "fig.set_size_inches(18.5, 10.5)\n",
    "\n",
    "# Create bar plot\n",
    "p1 = bar_data(teamData, 'cubescale')\n",
    "\n",
    "# Labels\n",
    "plt.ylabel('Cubes on Scale')\n",
    "plt.xlabel('Team Number')\n",
    "plt.title('Total Cubes on Scale by Team Number')\n",
    "\n",
    "# Config for X-Ticks\n",
    "x_tick = list_teams(teamData)\n",
    "plt.xticks(np.arange(len(x_tick)), x_tick)\n",
    "plt.xticks(rotation=45)\n",
    "\n",
    "# Grid\n",
    "plt.grid(True)\n",
    "\n",
    "# Readable .png\n",
    "plt.savefig('TestUno.png', dpi=400)\n"
   ]
  },
  {
   "cell_type": "code",
   "execution_count": null,
   "metadata": {
    "scrolled": true
   },
   "outputs": [],
   "source": []
  },
  {
   "cell_type": "code",
   "execution_count": 66,
   "metadata": {},
   "outputs": [
    {
     "name": "stdout",
     "output_type": "stream",
     "text": [
      "(445, 35)\n"
     ]
    }
   ],
   "source": []
  },
  {
   "cell_type": "code",
   "execution_count": null,
   "metadata": {},
   "outputs": [],
   "source": []
  }
 ],
 "metadata": {
  "kernelspec": {
   "display_name": "Python 3",
   "language": "python",
   "name": "python3"
  },
  "language_info": {
   "codemirror_mode": {
    "name": "ipython",
    "version": 3
   },
   "file_extension": ".py",
   "mimetype": "text/x-python",
   "name": "python",
   "nbconvert_exporter": "python",
   "pygments_lexer": "ipython3",
   "version": "3.6.4"
  }
 },
 "nbformat": 4,
 "nbformat_minor": 2
}
